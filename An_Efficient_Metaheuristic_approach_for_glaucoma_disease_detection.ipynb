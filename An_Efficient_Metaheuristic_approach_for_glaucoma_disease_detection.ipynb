{
  "nbformat": 4,
  "nbformat_minor": 0,
  "metadata": {
    "colab": {
      "name": "Glaucoma_GWO_+mlclassifiers(s).ipynb",
      "provenance": [],
      "collapsed_sections": []
    },
    "kernelspec": {
      "name": "python3",
      "display_name": "Python 3"
    },
    "language_info": {
      "name": "python"
    },
    "accelerator": "GPU"
  },
  "cells": [
    {
      "cell_type": "markdown",
      "source": [
        "# **Import Libraries**"
      ],
      "metadata": {
        "id": "My-0CvboNNrf"
      }
    },
    {
      "cell_type": "code",
      "execution_count": null,
      "metadata": {
        "id": "TbcMQlvo8ui_"
      },
      "outputs": [],
      "source": [
        "import numpy as np\n",
        "import matplotlib.pyplot as plt\n",
        "from __future__ import print_function\n",
        "import keras\n",
        "from tensorflow.keras.utils import to_categorical\n",
        "import os\n",
        "import matplotlib.pyplot as plt\n",
        "from glob import glob\n",
        "from zipfile import ZipFile\n",
        "from tensorflow.keras.preprocessing import image\n",
        "from tensorflow.keras.preprocessing.image import ImageDataGenerator\n",
        "from sklearn.model_selection import train_test_split\n",
        "from keras.preprocessing.image import ImageDataGenerator, load_img\n",
        "from sklearn.discriminant_analysis import QuadraticDiscriminantAnalysis\n",
        "from sklearn.discriminant_analysis import LinearDiscriminantAnalysis\n",
        "from sklearn.ensemble import RandomForestClassifier, AdaBoostClassifier,GradientBoostingClassifier\n",
        "from sklearn.neighbors import KNeighborsClassifier\n",
        "from sklearn.preprocessing import LabelBinarizer\n",
        "from sklearn.model_selection import cross_val_score\n",
        "from sklearn.model_selection import train_test_split\n",
        "from xgboost.sklearn import XGBClassifier  \n",
        "from sklearn.neural_network import MLPClassifier\n",
        "from sklearn.svm import SVC\n",
        "from sklearn.naive_bayes import GaussianNB\n",
        "from sklearn import tree\n",
        "from sklearn.model_selection import StratifiedKFold\n",
        "import time"
      ]
    },
    {
      "cell_type": "code",
      "source": [
        "from google.colab import drive\n",
        "drive.mount('/content/drive')"
      ],
      "metadata": {
        "colab": {
          "base_uri": "https://localhost:8080/"
        },
        "id": "yNFhezj887X8",
        "outputId": "1ab08d9a-ba13-4899-8698-a06bc815a5b6"
      },
      "execution_count": null,
      "outputs": [
        {
          "output_type": "stream",
          "name": "stdout",
          "text": [
            "Mounted at /content/drive\n"
          ]
        }
      ]
    },
    {
      "cell_type": "markdown",
      "source": [
        "## **Loading ResNet50 Features**"
      ],
      "metadata": {
        "id": "WF4oysVJNwur"
      }
    },
    {
      "cell_type": "code",
      "source": [
        "train_features = np.load(\"/content/drive/MyDrive/glaucoma_project/glaucoma_resnet50_features/train_features.npy\")\n",
        "train_labels = np.load(\"/content/drive/MyDrive/glaucoma_project/glaucoma_resnet50_features/train_labels.npy\")\n",
        "test_labels = np.load(\"/content/drive/MyDrive/glaucoma_project/glaucoma_resnet50_features/test_labels.npy\")\n",
        "test_features = np.load(\"/content/drive/MyDrive/glaucoma_project/glaucoma_resnet50_features/test_features.npy\")\n",
        "print(train_features.shape)\n",
        "print(train_labels.shape)\n",
        "print(test_features.shape)\n",
        "print(test_labels.shape)"
      ],
      "metadata": {
        "colab": {
          "base_uri": "https://localhost:8080/"
        },
        "id": "tt1oHTE587XS",
        "outputId": "c3d3ec39-3205-4367-d976-743b27c1e422"
      },
      "execution_count": null,
      "outputs": [
        {
          "output_type": "stream",
          "name": "stdout",
          "text": [
            "(2926, 100352)\n",
            "(2926, 2)\n",
            "(1254, 100352)\n",
            "(1254, 2)\n"
          ]
        }
      ]
    },
    {
      "cell_type": "code",
      "source": [
        "total_feat=np.concatenate((train_features,test_features))\n",
        "total_label=np.concatenate((train_labels,test_labels))\n",
        "print(total_feat.shape)\n",
        "print(total_label.shape)"
      ],
      "metadata": {
        "colab": {
          "base_uri": "https://localhost:8080/"
        },
        "id": "AKi_icKj87TG",
        "outputId": "92aa5b60-7ea8-4131-f854-1758992e15d4"
      },
      "execution_count": null,
      "outputs": [
        {
          "output_type": "stream",
          "name": "stdout",
          "text": [
            "(4180, 100352)\n",
            "(4180, 2)\n"
          ]
        }
      ]
    },
    {
      "cell_type": "code",
      "source": [
        "y=total_label\n",
        "print(y.shape)\n",
        "y1=y[:,1]\n",
        "y=y1\n",
        "y.shape"
      ],
      "metadata": {
        "colab": {
          "base_uri": "https://localhost:8080/"
        },
        "id": "WBcNc08N87Nt",
        "outputId": "6c2f7f86-0acc-4d0e-9021-3e6167549e32"
      },
      "execution_count": null,
      "outputs": [
        {
          "output_type": "stream",
          "name": "stdout",
          "text": [
            "(4180, 2)\n"
          ]
        },
        {
          "output_type": "execute_result",
          "data": {
            "text/plain": [
              "(4180,)"
            ]
          },
          "metadata": {},
          "execution_count": 5
        }
      ]
    },
    {
      "cell_type": "code",
      "source": [
        "from sklearn.feature_selection import SelectKBest\n",
        "from sklearn.feature_selection import chi2\n",
        "test = SelectKBest(score_func=chi2, k=1000)\n",
        "fit = test.fit(total_feat, total_label)\n",
        "np.set_printoptions(precision=3)\n",
        "features = fit.transform(total_feat)\n",
        "x_chai=features\n",
        "x_chai.shape"
      ],
      "metadata": {
        "colab": {
          "base_uri": "https://localhost:8080/"
        },
        "id": "yWdP5Am187Sc",
        "outputId": "81e5b876-40da-45a3-be8f-1de60d232e33"
      },
      "execution_count": null,
      "outputs": [
        {
          "output_type": "execute_result",
          "data": {
            "text/plain": [
              "(4180, 1000)"
            ]
          },
          "metadata": {},
          "execution_count": 6
        }
      ]
    },
    {
      "cell_type": "markdown",
      "source": [
        "## **Grey Wolf Optimizer**"
      ],
      "metadata": {
        "id": "khj6UkZyr_bc"
      }
    },
    {
      "cell_type": "code",
      "source": [
        "import numpy as np\n",
        "from sklearn.neighbors import KNeighborsClassifier as KNN\n",
        "import matplotlib.pyplot as plt\n",
        "\n",
        "class Solution():    \n",
        "    #structure of the solution \n",
        "    def __init__(self):\n",
        "        self.num_features = None\n",
        "        self.num_agents = None\n",
        "        self.max_iter = None\n",
        "        self.obj_function = None\n",
        "        self.execution_time = None\n",
        "        self.convergence_curve = {}\n",
        "        self.best_agent = None\n",
        "        self.best_fitness = None\n",
        "        self.best_accuracy = None\n",
        "        self.final_population = None\n",
        "        self.final_fitness = None\n",
        "        self.final_accuracy = None\n",
        "\n",
        "\n",
        "class Data():\n",
        "    # structure of the training data\n",
        "    def __init__(self):\n",
        "        self.train_X = None\n",
        "        self.train_Y = None\n",
        "        self.val_X = None\n",
        "        self.val_Y = None\n",
        "\n",
        "\n",
        "\n",
        "def initialize(num_agents, num_features):\n",
        "    # define min and max number of features\n",
        "    min_features = int(0.3 * num_features)\n",
        "    max_features = int(0.6 * num_features)\n",
        "\n",
        "    # initialize the agents with zeros\n",
        "    agents = np.zeros((num_agents, num_features))\n",
        "\n",
        "    # select random features for each agent\n",
        "    for agent_no in range(num_agents):\n",
        "\n",
        "        # find random indices\n",
        "        cur_count = np.random.randint(min_features, max_features)\n",
        "        temp_vec = np.random.rand(1, num_features)\n",
        "        temp_idx = np.argsort(temp_vec)[0][0:cur_count]\n",
        "\n",
        "        # select the features with the ranom indices\n",
        "        agents[agent_no][temp_idx] = 1   \n",
        "\n",
        "    return agents\n",
        "\n",
        "\n",
        "\n",
        "def sort_agents(agents, obj, data, fitness=None):\n",
        "    # sort the agents according to fitness\n",
        "    train_X, val_X, train_Y, val_Y = data.train_X, data.val_X, data.train_Y, data.val_Y\n",
        "    (obj_function, weight_acc) = obj\n",
        "   \n",
        "    if fitness is None:\n",
        "        # if there is only one agent\n",
        "        if len(agents.shape) == 1:\n",
        "            num_agents = 1\n",
        "            fitness = obj_function(agents, train_X, val_X, train_Y, val_Y, weight_acc)\n",
        "            return agents, fitness\n",
        "\n",
        "        # for multiple agents\n",
        "        else:\n",
        "            num_agents = agents.shape[0]\n",
        "            fitness = np.zeros(num_agents)\n",
        "            for id, agent in enumerate(agents):\n",
        "                fitness[id] = obj_function(agent, train_X, val_X, train_Y, val_Y, weight_acc)\n",
        "\n",
        "    idx = np.argsort(-fitness)\n",
        "    sorted_agents = agents[idx].copy()\n",
        "    sorted_fitness = fitness[idx].copy()\n",
        "\n",
        "    return sorted_agents, sorted_fitness\n",
        "\n",
        "\n",
        "\n",
        "def display(agents, fitness, agent_name='Agent'):\n",
        "    # display the population\n",
        "    print('\\nNumber of agents: {}'.format(agents.shape[0]))\n",
        "    print('\\n------------- Best Agent ---------------')\n",
        "    print('Fitness: {}'.format(fitness[0]))\n",
        "    print('Number of Features: {}'.format(int(np.sum(agents[0]))))\n",
        "    print('----------------------------------------\\n')\n",
        "\n",
        "    for id, agent in enumerate(agents):\n",
        "        print('{} {} - Fitness: {}, Number of Features: {}'.format(agent_name, id+1, fitness[id], int(np.sum(agent))))\n",
        "\n",
        "    print('================================================================================\\n')\n",
        "\n",
        "\n",
        "\n",
        "def compute_accuracy(agent, train_X, test_X, train_Y, test_Y): \n",
        "    # compute classification accuracy of the given agents\n",
        "    cols = np.flatnonzero(agent)     \n",
        "    if(cols.shape[0] == 0):\n",
        "        return 0    \n",
        "    clf = KNN()\n",
        "\n",
        "    train_data = train_X[:,cols]\n",
        "    train_label = train_Y\n",
        "    test_data = test_X[:,cols]\n",
        "    test_label = test_Y\n",
        "\n",
        "    clf.fit(train_data,train_label)\n",
        "    acc = clf.score(test_data,test_label)\n",
        "\n",
        "    return acc\n",
        "        \n",
        "\n",
        "def compute_fitness(agent, train_X, test_X, train_Y, test_Y, weight_acc=0.9):\n",
        "    # compute a basic fitness measure\n",
        "    if(weight_acc == None):\n",
        "        weight_acc = 0.9\n",
        "\n",
        "    weight_feat = 1 - weight_acc\n",
        "    num_features = agent.shape[0]\n",
        "    \n",
        "    acc = compute_accuracy(agent, train_X, test_X, train_Y, test_Y)\n",
        "    feat = (num_features - np.sum(agent))/num_features\n",
        "\n",
        "    fitness = weight_acc * acc + weight_feat * feat\n",
        "    return fitness\n",
        "\n",
        "\n",
        "def Conv_plot(convergence_curve):\n",
        "    # plot convergence curves\n",
        "    num_iter = len(convergence_curve['fitness'])\n",
        "    iters = np.arange(num_iter) + 1\n",
        "    fig, axes = plt.subplots(1)\n",
        "    fig.tight_layout(pad = 5) \n",
        "    fig.suptitle('Convergence Curves')\n",
        "    \n",
        "    axes.set_title('Convergence of Fitness over Iterations')\n",
        "    axes.set_xlabel('Iteration')\n",
        "    axes.set_ylabel('Avg. Fitness')\n",
        "    axes.plot(iters, convergence_curve['fitness'])\n",
        "\n",
        "    return fig, axes"
      ],
      "metadata": {
        "id": "30j9OsciLvt-"
      },
      "execution_count": null,
      "outputs": []
    },
    {
      "cell_type": "code",
      "source": [
        "import numpy as np\n",
        "\n",
        "def sigmoid(val):\n",
        "    if val < 0:\n",
        "        return 1 - 1/(1 + np.exp(val))\n",
        "    else:\n",
        "        return 1/(1 + np.exp(-val))\n",
        "\n",
        "\n",
        "def v_func(val):\n",
        "    return abs(val/(np.sqrt(1 + val*val)))\n",
        "\n",
        "\n",
        "def u_func(val):\n",
        "    alpha, beta = 2, 1.5\n",
        "    return abs(alpha * np.power(abs(val), beta))\n",
        "\n",
        "\n",
        "def get_trans_function(shape):\n",
        "    if (shape.lower() == 's'):\n",
        "        return sigmoid\n",
        "\n",
        "    elif (shape.lower() == 'v'):\n",
        "        return v_func\n",
        "\n",
        "    elif(shape.lower() == 'u'):\n",
        "        return u_func\n",
        "\n",
        "    else:\n",
        "        print('\\n[Error!] We don\\'t currently support {}-shaped transfer functions...\\n'.format(shape))\n",
        "        exit(1)\n"
      ],
      "metadata": {
        "id": "pp97ti3rL-Zx"
      },
      "execution_count": null,
      "outputs": []
    },
    {
      "cell_type": "code",
      "source": [
        "import numpy as np\n",
        "import time\n",
        "import matplotlib.pyplot as plt\n",
        "\n",
        "from sklearn.model_selection import train_test_split\n",
        "from sklearn import datasets\n",
        "\n",
        "#from Py_FS.wrapper.nature_inspired._utilities import Solution, Data, initialize, sort_agents, display, compute_fitness, Conv_plot\n",
        "#from Py_FS.wrapper.nature_inspired._transfer_functions import get_trans_function\n",
        "\n",
        "\n",
        "def GWO(num_agents, max_iter, train_data, train_label, obj_function=compute_fitness, trans_func_shape='s', save_conv_graph=False):\n",
        "    \n",
        "    # Grey Wolf Optimizer\n",
        "    ############################### Parameters ####################################\n",
        "    #                                                                             #\n",
        "    #   num_agents: number of greywolves                                          #\n",
        "    #   max_iter: maximum number of generations                                   #\n",
        "    #   train_data: training samples of data                                      #\n",
        "    #   train_label: class labels for the training samples                        #                \n",
        "    #   obj_function: the function to maximize while doing feature selection      #\n",
        "    #   trans_function_shape: shape of the transfer function used                 #\n",
        "    #   save_conv_graph: boolean value for saving convergence graph               #\n",
        "    #                                                                             #\n",
        "    ###############################################################################\n",
        "    \n",
        "    short_name = 'GWO'\n",
        "    agent_name = 'Greywolf'\n",
        "    train_data, train_label = np.array(train_data), np.array(train_label)\n",
        "    num_features = train_data.shape[1]\n",
        "    trans_function = get_trans_function(trans_func_shape)\n",
        "\n",
        "    # setting up the objectives\n",
        "    weight_acc = None\n",
        "    if(obj_function==compute_fitness):\n",
        "        weight_acc = float(input('Weight for the classification accuracy [0-1]: '))\n",
        "    obj = (obj_function, weight_acc)\n",
        "    compute_accuracy = (compute_fitness, 1) # compute_accuracy is just compute_fitness with accuracy weight as 1\n",
        "\n",
        "    # initialize greywolves and Leader (the agent with the max fitness)\n",
        "    greywolves = initialize(num_agents, num_features)\n",
        "    fitness = np.zeros(num_agents)\n",
        "    accuracy = np.zeros(num_agents)\n",
        "    Leader_agent = np.zeros((1, num_features))\n",
        "    Leader_fitness = float(\"-inf\")\n",
        "    Leader_accuracy = float(\"-inf\")\n",
        "\n",
        "    # initialize convergence curves\n",
        "    convergence_curve = {}\n",
        "    convergence_curve['fitness'] = np.zeros(max_iter)\n",
        "\n",
        "    # initialize data class\n",
        "    data = Data()\n",
        "    val_size = float(input('Enter the percentage of data wanted for valdiation [0, 100]: '))/100\n",
        "    data.train_X, data.val_X, data.train_Y, data.val_Y = train_test_split(train_data, train_label, stratify=train_label, test_size=val_size)\n",
        "    \n",
        "    # create a solution object\n",
        "    solution = Solution()\n",
        "    solution.num_agents = num_agents\n",
        "    solution.max_iter = max_iter\n",
        "    solution.num_features = num_features\n",
        "    solution.obj_function = obj_function\n",
        "\n",
        "    # rank initial greywolves\n",
        "    greywolves, fitness = sort_agents(greywolves, obj, data)\n",
        "\n",
        "    # start timer\n",
        "    start_time = time.time()\n",
        "\n",
        "    # initialize the alpha, beta and delta grey wolves and their fitness\n",
        "    alpha, beta, delta = np.zeros((1, num_features)), np.zeros((1, num_features)), np.zeros((1, num_features))\n",
        "    alpha_fit, beta_fit, delta_fit = float(\"-inf\"), float(\"-inf\"), float(\"-inf\")\n",
        "\n",
        "    for iter_no in range(max_iter):\n",
        "        print('\\n================================================================================')\n",
        "        print('                          Iteration - {}'.format(iter_no+1))\n",
        "        print('================================================================================\\n')\n",
        "\n",
        "        # update the alpha, beta and delta grey wolves\n",
        "        for i in range(num_agents):\n",
        "\n",
        "            # update alpha, beta, delta\n",
        "            if fitness[i] > alpha_fit:\n",
        "                delta_fit = beta_fit\n",
        "                delta = beta.copy()\n",
        "                beta_fit = alpha_fit\n",
        "                beta = alpha.copy()\n",
        "                alpha_fit = fitness[i]\n",
        "                alpha = greywolves[i, :].copy()\n",
        "\n",
        "            # update beta, delta\n",
        "            elif fitness[i] > beta_fit:\n",
        "                delta_fit = beta_fit\n",
        "                delta = beta.copy()\n",
        "                beta_fit = fitness[i]\n",
        "                beta = greywolves[i, :].copy()\n",
        "\n",
        "            # update delta\n",
        "            elif fitness[i] > delta_fit:\n",
        "                delta_fit = fitness[i]\n",
        "                delta = greywolves[i, :].copy()\n",
        "\n",
        "        # a decreases linearly fron 2 to 0\n",
        "        a = 2-iter_no*((2)/max_iter)\n",
        "\n",
        "        for i in range(num_agents):\n",
        "            for j in range(num_features):  \n",
        "\n",
        "                # calculate distance between alpha and current agent\n",
        "                r1 = np.random.random() # r1 is a random number in [0,1]\n",
        "                r2 = np.random.random() # r2 is a random number in [0,1]\n",
        "                A1 = (2 * a * r1) - a # calculate A1 \n",
        "                C1 = 2 * r2 # calculate C1\n",
        "                D_alpha = abs(C1 * alpha[j] - greywolves[i, j]) # find distance from alpha\n",
        "                X1 = alpha[j] - (A1 * D_alpha) # Eq. (3.6)\n",
        "\n",
        "                # calculate distance between beta and current agent\n",
        "                r1 = np.random.random() # r1 is a random number in [0,1]\n",
        "                r2 = np.random.random() # r2 is a random number in [0,1]\n",
        "                A2 = (2 * a * r1) - a # calculate A2\n",
        "                C2 = 2 * r2 # calculate C2\n",
        "                D_beta = abs(C2 * beta[j] - greywolves[i, j]) # find distance from beta\n",
        "                X2 = beta[j] - (A2 * D_beta) # Eq. (3.6)\n",
        "\n",
        "                # calculate distance between delta and current agent\n",
        "                r1 = np.random.random() # r1 is a random number in [0,1]\n",
        "                r2 = np.random.random() # r2 is a random number in [0,1]\n",
        "                A3 = (2* a * r1) - a # calculate A3\n",
        "                C3 = 2 * r2 # calculate C3\n",
        "                D_delta = abs(C3 * delta[j] - greywolves[i, j]) # find distance from delta\n",
        "                X3 = delta[j]-A3*D_delta # Eq. (3.6)\n",
        "\n",
        "                # update the position of current agent\n",
        "                greywolves[i, j] = (X1 + X2 + X3) / 3 # Eq. (3.7)\n",
        "\n",
        "            # Apply transformation function on the updated greywolf\n",
        "            for j in range(num_features):\n",
        "                trans_value = trans_function(greywolves[i,j])\n",
        "                if (np.random.random() < trans_value): \n",
        "                    greywolves[i,j] = 1\n",
        "                else:\n",
        "                    greywolves[i,j] = 0\n",
        "\n",
        "        # update final information\n",
        "        greywolves, fitness = sort_agents(greywolves, obj, data)\n",
        "        display(greywolves, fitness, agent_name)\n",
        "        \n",
        "        # update Leader (best agent)\n",
        "        if fitness[0] > Leader_fitness:\n",
        "            Leader_agent = greywolves[0].copy()\n",
        "            Leader_fitness = fitness[0].copy()\n",
        "\n",
        "        if alpha_fit > Leader_fitness:\n",
        "            Leader_fitness = alpha_fit\n",
        "            Leader_agent = alpha.copy()\n",
        "\n",
        "\n",
        "        convergence_curve['fitness'][iter_no] = np.mean(fitness)\n",
        "\n",
        "\n",
        "    # compute final accuracy\n",
        "    Leader_agent, Leader_accuracy = sort_agents(Leader_agent, compute_accuracy, data)\n",
        "    greywolves, accuracy = sort_agents(greywolves, compute_accuracy, data)\n",
        "\n",
        "    print('\\n================================================================================')\n",
        "    print('                                    Final Result                                  ')\n",
        "    print('================================================================================\\n')\n",
        "    print('Leader ' + agent_name + ' Dimension : {}'.format(int(np.sum(Leader_agent))))\n",
        "    print('Leader ' + agent_name + ' Fitness : {}'.format(Leader_fitness))\n",
        "    print('Leader ' + agent_name + ' Classification Accuracy : {}'.format(Leader_accuracy))\n",
        "    print('\\n================================================================================\\n')\n",
        "\n",
        "    # stop timer\n",
        "    end_time = time.time()\n",
        "    exec_time = end_time - start_time\n",
        "\n",
        "    # plot convergence graph\n",
        "    fig, axes = Conv_plot(convergence_curve)\n",
        "    if(save_conv_graph):\n",
        "        plt.savefig('convergence_graph_'+ short_name + '.jpg')\n",
        "    plt.show()\n",
        "\n",
        "    # update attributes of solution\n",
        "    solution.best_agent = Leader_agent\n",
        "    solution.best_fitness = Leader_fitness\n",
        "    solution.best_accuracy = Leader_accuracy\n",
        "    solution.convergence_curve = convergence_curve\n",
        "    solution.final_greywolves = greywolves\n",
        "    solution.final_fitness = fitness\n",
        "    solution.final_accuracy = accuracy\n",
        "    solution.execution_time = exec_time\n",
        "\n",
        "    return solution\n",
        "\n",
        "\n",
        "if __name__ == '__main__':\n",
        "\n",
        "    #data = datasets.load_digits()\n",
        "    solution=GWO(5, 2, x_chai, y, save_conv_graph=True)"
      ],
      "metadata": {
        "colab": {
          "base_uri": "https://localhost:8080/",
          "height": 1000
        },
        "id": "L4dGbx5DLNCT",
        "outputId": "abb2e5c4-a63b-41fd-a0dc-aec1cf058467"
      },
      "execution_count": null,
      "outputs": [
        {
          "output_type": "stream",
          "name": "stdout",
          "text": [
            "Weight for the classification accuracy [0-1]: 1\n",
            "Enter the percentage of data wanted for valdiation [0, 100]: 30\n",
            "\n",
            "================================================================================\n",
            "                          Iteration - 1\n",
            "================================================================================\n",
            "\n",
            "\n",
            "Number of agents: 5\n",
            "\n",
            "------------- Best Agent ---------------\n",
            "Fitness: 0.8708133971291866\n",
            "Number of Features: 615\n",
            "----------------------------------------\n",
            "\n",
            "Greywolf 1 - Fitness: 0.8708133971291866, Number of Features: 615\n",
            "Greywolf 2 - Fitness: 0.8692185007974481, Number of Features: 600\n",
            "Greywolf 3 - Fitness: 0.8692185007974481, Number of Features: 584\n",
            "Greywolf 4 - Fitness: 0.868421052631579, Number of Features: 607\n",
            "Greywolf 5 - Fitness: 0.8660287081339713, Number of Features: 604\n",
            "================================================================================\n",
            "\n",
            "\n",
            "================================================================================\n",
            "                          Iteration - 2\n",
            "================================================================================\n",
            "\n",
            "\n",
            "Number of agents: 5\n",
            "\n",
            "------------- Best Agent ---------------\n",
            "Fitness: 0.8700159489633174\n",
            "Number of Features: 649\n",
            "----------------------------------------\n",
            "\n",
            "Greywolf 1 - Fitness: 0.8700159489633174, Number of Features: 649\n",
            "Greywolf 2 - Fitness: 0.868421052631579, Number of Features: 624\n",
            "Greywolf 3 - Fitness: 0.8676236044657097, Number of Features: 662\n",
            "Greywolf 4 - Fitness: 0.8660287081339713, Number of Features: 656\n",
            "Greywolf 5 - Fitness: 0.8644338118022329, Number of Features: 647\n",
            "================================================================================\n",
            "\n",
            "\n",
            "================================================================================\n",
            "                                    Final Result                                  \n",
            "================================================================================\n",
            "\n",
            "Leader Greywolf Dimension : 615\n",
            "Leader Greywolf Fitness : 0.8708133971291866\n",
            "Leader Greywolf Classification Accuracy : 0.8708133971291866\n",
            "\n",
            "================================================================================\n",
            "\n"
          ]
        },
        {
          "output_type": "display_data",
          "data": {
            "text/plain": [
              "<Figure size 432x288 with 1 Axes>"
            ],
            "image/png": "[encoded data removed]"
          },
          "metadata": {
            "needs_background": "light"
          }
        }
      ]
    },
    {
      "cell_type": "code",
      "source": [
        "cols=np.flatnonzero(solution.best_agent)"
      ],
      "metadata": {
        "id": "5KY6jmvnZ3aL"
      },
      "execution_count": null,
      "outputs": []
    },
    {
      "cell_type": "code",
      "source": [
        "final_x=x_chai[:,cols]\n",
        "final_y=y\n"
      ],
      "metadata": {
        "id": "d9GpHT04aZO2"
      },
      "execution_count": null,
      "outputs": []
    },
    {
      "cell_type": "code",
      "source": [
        "train_features, test_features, train_labels, test_labels = train_test_split(final_x,final_y,test_size=0.3, random_state=2)"
      ],
      "metadata": {
        "id": "_6ZmDBIZZ9c-"
      },
      "execution_count": null,
      "outputs": []
    },
    {
      "cell_type": "code",
      "source": [
        "print(train_features.shape)\n",
        "print(train_labels.shape)\n",
        "print(test_features.shape)\n",
        "print(test_labels.shape)"
      ],
      "metadata": {
        "colab": {
          "base_uri": "https://localhost:8080/"
        },
        "id": "CoHNuD6hZ9bh",
        "outputId": "25bd24d2-a38d-4edc-b70c-44dd735e3e88"
      },
      "execution_count": null,
      "outputs": [
        {
          "output_type": "stream",
          "name": "stdout",
          "text": [
            "(2926, 615)\n",
            "(2926,)\n",
            "(1254, 615)\n",
            "(1254,)\n"
          ]
        }
      ]
    },
    {
      "cell_type": "code",
      "source": [
        "ytrain = train_labels\n",
        "ytrain.shape"
      ],
      "metadata": {
        "colab": {
          "base_uri": "https://localhost:8080/"
        },
        "id": "vpZoX1DYcSq9",
        "outputId": "b3bc054b-bcf2-4be3-e519-bbd143e07143"
      },
      "execution_count": null,
      "outputs": [
        {
          "output_type": "execute_result",
          "data": {
            "text/plain": [
              "(2926,)"
            ]
          },
          "metadata": {},
          "execution_count": 14
        }
      ]
    },
    {
      "cell_type": "code",
      "source": [
        "ytest = test_labels\n",
        "ytest.shape"
      ],
      "metadata": {
        "colab": {
          "base_uri": "https://localhost:8080/"
        },
        "id": "_kahVVAfcVAw",
        "outputId": "3cb370f5-1c0e-4abf-ed04-8b48f24dfe8b"
      },
      "execution_count": null,
      "outputs": [
        {
          "output_type": "execute_result",
          "data": {
            "text/plain": [
              "(1254,)"
            ]
          },
          "metadata": {},
          "execution_count": 15
        }
      ]
    },
    {
      "cell_type": "markdown",
      "source": [
        "## **Classification(ML Classifiers)**"
      ],
      "metadata": {
        "id": "Fw5AvZKIc5nw"
      }
    },
    {
      "cell_type": "markdown",
      "source": [
        "### **(i).KNeighbors Classifier**"
      ],
      "metadata": {
        "id": "u5NJtF3hc1_c"
      }
    },
    {
      "cell_type": "code",
      "source": [
        "start = time.time()\n",
        "from sklearn.neighbors import KNeighborsClassifier\n",
        "knn = KNeighborsClassifier()\n",
        "classifier = knn.fit(train_features,ytrain)\n",
        "end = time.time()\n",
        "print('Time_Consumed',end-start)"
      ],
      "metadata": {
        "colab": {
          "base_uri": "https://localhost:8080/"
        },
        "id": "F3D-nGKyZ9X0",
        "outputId": "e7b20565-1a0b-4864-cd66-dc800c9ec33f"
      },
      "execution_count": null,
      "outputs": [
        {
          "output_type": "stream",
          "name": "stdout",
          "text": [
            "Time_Consumed 0.0032570362091064453\n"
          ]
        }
      ]
    },
    {
      "cell_type": "code",
      "source": [
        "ytrainpred = classifier.predict(train_features)\n",
        "ytestpred = classifier.predict(test_features)"
      ],
      "metadata": {
        "id": "BICZFAnNcpvv"
      },
      "execution_count": null,
      "outputs": []
    },
    {
      "cell_type": "code",
      "source": [
        "from sklearn.metrics import classification_report\n",
        "print('Train_Classification_Report')\n",
        "print('---------------------------')\n",
        "print(classification_report(ytrain,ytrainpred))"
      ],
      "metadata": {
        "colab": {
          "base_uri": "https://localhost:8080/"
        },
        "id": "HV-sqHwwcpsH",
        "outputId": "2d4f4936-8bdb-41d6-bf91-efc1f1751e5f"
      },
      "execution_count": null,
      "outputs": [
        {
          "output_type": "stream",
          "name": "stdout",
          "text": [
            "Train_Classification_Report\n",
            "---------------------------\n",
            "              precision    recall  f1-score   support\n",
            "\n",
            "         0.0       0.89      0.93      0.91      1458\n",
            "         1.0       0.93      0.88      0.91      1468\n",
            "\n",
            "    accuracy                           0.91      2926\n",
            "   macro avg       0.91      0.91      0.91      2926\n",
            "weighted avg       0.91      0.91      0.91      2926\n",
            "\n"
          ]
        }
      ]
    },
    {
      "cell_type": "code",
      "source": [
        "print('Test_Classification_Report')\n",
        "print('---------------------------')\n",
        "print(classification_report(ytest,ytestpred))"
      ],
      "metadata": {
        "colab": {
          "base_uri": "https://localhost:8080/"
        },
        "id": "EjHha5KOcpqn",
        "outputId": "02c85e22-7fe2-411d-8e83-58da02c73650"
      },
      "execution_count": null,
      "outputs": [
        {
          "output_type": "stream",
          "name": "stdout",
          "text": [
            "Test_Classification_Report\n",
            "---------------------------\n",
            "              precision    recall  f1-score   support\n",
            "\n",
            "         0.0       0.86      0.90      0.88       632\n",
            "         1.0       0.90      0.85      0.87       622\n",
            "\n",
            "    accuracy                           0.88      1254\n",
            "   macro avg       0.88      0.88      0.88      1254\n",
            "weighted avg       0.88      0.88      0.88      1254\n",
            "\n"
          ]
        }
      ]
    },
    {
      "cell_type": "markdown",
      "source": [
        "### **(ii).Naive Bayes**"
      ],
      "metadata": {
        "id": "Lh_yVicTdF4u"
      }
    },
    {
      "cell_type": "code",
      "source": [
        "start = time.time()\n",
        "from sklearn.naive_bayes import GaussianNB\n",
        "gnb = GaussianNB()\n",
        "classifier = gnb.fit(train_features,ytrain)\n",
        "end = time.time()\n",
        "print('Time_Consumed',end-start)"
      ],
      "metadata": {
        "colab": {
          "base_uri": "https://localhost:8080/"
        },
        "id": "gR3J6KWwcpmW",
        "outputId": "ebfedd05-bb9a-45a6-dafe-2c40c156c4fc"
      },
      "execution_count": null,
      "outputs": [
        {
          "output_type": "stream",
          "name": "stdout",
          "text": [
            "Time_Consumed 0.0786900520324707\n"
          ]
        }
      ]
    },
    {
      "cell_type": "code",
      "source": [
        "ytrainpred = classifier.predict(train_features)\n",
        "ytestpred = classifier.predict(test_features)"
      ],
      "metadata": {
        "id": "XsjxGwVicpk9"
      },
      "execution_count": null,
      "outputs": []
    },
    {
      "cell_type": "code",
      "source": [
        "from sklearn.metrics import classification_report\n",
        "print('Train_Classification_Report')\n",
        "print('---------------------------')\n",
        "print(classification_report(ytrain,ytrainpred))"
      ],
      "metadata": {
        "colab": {
          "base_uri": "https://localhost:8080/"
        },
        "id": "tsRBfU4fZ9WS",
        "outputId": "2fa14046-81d2-4253-cf8f-630f3bcd9597"
      },
      "execution_count": null,
      "outputs": [
        {
          "output_type": "stream",
          "name": "stdout",
          "text": [
            "Train_Classification_Report\n",
            "---------------------------\n",
            "              precision    recall  f1-score   support\n",
            "\n",
            "         0.0       0.71      0.74      0.73      1458\n",
            "         1.0       0.73      0.70      0.72      1468\n",
            "\n",
            "    accuracy                           0.72      2926\n",
            "   macro avg       0.72      0.72      0.72      2926\n",
            "weighted avg       0.72      0.72      0.72      2926\n",
            "\n"
          ]
        }
      ]
    },
    {
      "cell_type": "code",
      "source": [
        "print('Test_Classification_Report')\n",
        "print('---------------------------')\n",
        "print(classification_report(ytest,ytestpred))"
      ],
      "metadata": {
        "colab": {
          "base_uri": "https://localhost:8080/"
        },
        "id": "QFssxsLVZ9Tt",
        "outputId": "8711c3c1-25ae-437e-ee03-efed98845c31"
      },
      "execution_count": null,
      "outputs": [
        {
          "output_type": "stream",
          "name": "stdout",
          "text": [
            "Test_Classification_Report\n",
            "---------------------------\n",
            "              precision    recall  f1-score   support\n",
            "\n",
            "         0.0       0.70      0.77      0.73       632\n",
            "         1.0       0.74      0.67      0.70       622\n",
            "\n",
            "    accuracy                           0.72      1254\n",
            "   macro avg       0.72      0.72      0.72      1254\n",
            "weighted avg       0.72      0.72      0.72      1254\n",
            "\n"
          ]
        }
      ]
    },
    {
      "cell_type": "markdown",
      "source": [
        "### **(iii).SVM**"
      ],
      "metadata": {
        "id": "b2m6EmbjdVeA"
      }
    },
    {
      "cell_type": "code",
      "source": [
        "start = time.time()\n",
        "svc = SVC(kernel ='poly', C = 1)\n",
        "classifier = svc.fit(train_features,ytrain)\n",
        "end = time.time()\n",
        "print('Time_Consumed',end-start)"
      ],
      "metadata": {
        "colab": {
          "base_uri": "https://localhost:8080/"
        },
        "id": "IeXvwZYcZ9SI",
        "outputId": "974ea56f-63ec-4661-883d-390b6183c2fe"
      },
      "execution_count": null,
      "outputs": [
        {
          "output_type": "stream",
          "name": "stdout",
          "text": [
            "Time_Consumed 1.0750439167022705\n"
          ]
        }
      ]
    },
    {
      "cell_type": "code",
      "source": [
        "ytrainpred = classifier.predict(train_features)\n",
        "ytestpred = classifier.predict(test_features)"
      ],
      "metadata": {
        "id": "kGuj4PCJZ9Os"
      },
      "execution_count": null,
      "outputs": []
    },
    {
      "cell_type": "code",
      "source": [
        "from sklearn.metrics import classification_report\n",
        "print('Train_Classification_Report')\n",
        "print('---------------------------')\n",
        "print(classification_report(ytrain,ytrainpred))"
      ],
      "metadata": {
        "colab": {
          "base_uri": "https://localhost:8080/"
        },
        "id": "7smGmro3Z9NN",
        "outputId": "f277c48e-809a-402d-e1a4-58fec5f40b26"
      },
      "execution_count": null,
      "outputs": [
        {
          "output_type": "stream",
          "name": "stdout",
          "text": [
            "Train_Classification_Report\n",
            "---------------------------\n",
            "              precision    recall  f1-score   support\n",
            "\n",
            "         0.0       0.94      0.98      0.96      1458\n",
            "         1.0       0.98      0.94      0.96      1468\n",
            "\n",
            "    accuracy                           0.96      2926\n",
            "   macro avg       0.96      0.96      0.96      2926\n",
            "weighted avg       0.96      0.96      0.96      2926\n",
            "\n"
          ]
        }
      ]
    },
    {
      "cell_type": "code",
      "source": [
        "print('Test_Classification_Report')\n",
        "print('---------------------------')\n",
        "print(classification_report(ytest,ytestpred))"
      ],
      "metadata": {
        "colab": {
          "base_uri": "https://localhost:8080/"
        },
        "id": "geqN8ls2dcqf",
        "outputId": "c1335d2b-2dbf-4785-b37d-49b7d4ccc0d0"
      },
      "execution_count": null,
      "outputs": [
        {
          "output_type": "stream",
          "name": "stdout",
          "text": [
            "Test_Classification_Report\n",
            "---------------------------\n",
            "              precision    recall  f1-score   support\n",
            "\n",
            "         0.0       0.86      0.90      0.88       632\n",
            "         1.0       0.90      0.86      0.88       622\n",
            "\n",
            "    accuracy                           0.88      1254\n",
            "   macro avg       0.88      0.88      0.88      1254\n",
            "weighted avg       0.88      0.88      0.88      1254\n",
            "\n"
          ]
        }
      ]
    },
    {
      "cell_type": "markdown",
      "source": [
        "### **(iv).AdaBoostClassifier**"
      ],
      "metadata": {
        "id": "QukfI0VVdkO6"
      }
    },
    {
      "cell_type": "code",
      "source": [
        "start = time.time()\n",
        "from sklearn.ensemble import AdaBoostClassifier\n",
        "ab = AdaBoostClassifier()\n",
        "classifier = ab.fit(train_features,ytrain)\n",
        "end = time.time()\n",
        "print('Time_Consumed',end-start)"
      ],
      "metadata": {
        "colab": {
          "base_uri": "https://localhost:8080/"
        },
        "id": "Q6sfeyJ_dclT",
        "outputId": "f56dec3a-eb11-426c-ec15-436303e49a0f"
      },
      "execution_count": null,
      "outputs": [
        {
          "output_type": "stream",
          "name": "stdout",
          "text": [
            "Time_Consumed 8.190357208251953\n"
          ]
        }
      ]
    },
    {
      "cell_type": "code",
      "source": [
        "ytrainpred = classifier.predict(train_features)\n",
        "ytestpred = classifier.predict(test_features)"
      ],
      "metadata": {
        "id": "yx6ikhd1dcj5"
      },
      "execution_count": null,
      "outputs": []
    },
    {
      "cell_type": "code",
      "source": [
        "print('Train_Classification_Report')\n",
        "print('---------------------------')\n",
        "print(classification_report(ytrain,ytrainpred))"
      ],
      "metadata": {
        "colab": {
          "base_uri": "https://localhost:8080/"
        },
        "id": "HY3Ausx0dchX",
        "outputId": "a91d91ab-3adb-405f-a820-95b74d225060"
      },
      "execution_count": null,
      "outputs": [
        {
          "output_type": "stream",
          "name": "stdout",
          "text": [
            "Train_Classification_Report\n",
            "---------------------------\n",
            "              precision    recall  f1-score   support\n",
            "\n",
            "         0.0       0.88      0.88      0.88      1458\n",
            "         1.0       0.88      0.88      0.88      1468\n",
            "\n",
            "    accuracy                           0.88      2926\n",
            "   macro avg       0.88      0.88      0.88      2926\n",
            "weighted avg       0.88      0.88      0.88      2926\n",
            "\n"
          ]
        }
      ]
    },
    {
      "cell_type": "code",
      "source": [
        "print('Test_Classification_Report')\n",
        "print('---------------------------')\n",
        "print(classification_report(ytest,ytestpred))"
      ],
      "metadata": {
        "colab": {
          "base_uri": "https://localhost:8080/"
        },
        "id": "AH97xpTbdcf2",
        "outputId": "0744d18f-8d2e-4df7-f468-8e0e9fe475dd"
      },
      "execution_count": null,
      "outputs": [
        {
          "output_type": "stream",
          "name": "stdout",
          "text": [
            "Test_Classification_Report\n",
            "---------------------------\n",
            "              precision    recall  f1-score   support\n",
            "\n",
            "         0.0       0.81      0.79      0.80       632\n",
            "         1.0       0.79      0.81      0.80       622\n",
            "\n",
            "    accuracy                           0.80      1254\n",
            "   macro avg       0.80      0.80      0.80      1254\n",
            "weighted avg       0.80      0.80      0.80      1254\n",
            "\n"
          ]
        }
      ]
    },
    {
      "cell_type": "markdown",
      "source": [
        "### **(v).GradientBoostingClassifier**"
      ],
      "metadata": {
        "id": "PpzwPIgjd2fx"
      }
    },
    {
      "cell_type": "code",
      "source": [
        "start = time.time()\n",
        "from sklearn.ensemble import GradientBoostingClassifier\n",
        "gb = GradientBoostingClassifier()\n",
        "classifier = ab.fit(train_features,ytrain)\n",
        "end = time.time()\n",
        "print('Time_Consumed',end-start)"
      ],
      "metadata": {
        "colab": {
          "base_uri": "https://localhost:8080/"
        },
        "id": "WY7ZQMi5dccP",
        "outputId": "537d04ac-f2c4-40a2-de5c-4fd1209e9c58"
      },
      "execution_count": null,
      "outputs": [
        {
          "output_type": "stream",
          "name": "stdout",
          "text": [
            "Time_Consumed 8.582406520843506\n"
          ]
        }
      ]
    },
    {
      "cell_type": "code",
      "source": [
        "ytrainpred = classifier.predict(train_features)\n",
        "ytestpred = classifier.predict(test_features)"
      ],
      "metadata": {
        "id": "_WbSi0xtdcax"
      },
      "execution_count": null,
      "outputs": []
    },
    {
      "cell_type": "code",
      "source": [
        "print('Train_Classification_Report')\n",
        "print('---------------------------')\n",
        "print(classification_report(ytrain,ytrainpred))"
      ],
      "metadata": {
        "colab": {
          "base_uri": "https://localhost:8080/"
        },
        "id": "Ia4gLoKodcXb",
        "outputId": "3dc11ce7-2223-4755-b253-c7ef691012f2"
      },
      "execution_count": null,
      "outputs": [
        {
          "output_type": "stream",
          "name": "stdout",
          "text": [
            "Train_Classification_Report\n",
            "---------------------------\n",
            "              precision    recall  f1-score   support\n",
            "\n",
            "         0.0       0.88      0.88      0.88      1458\n",
            "         1.0       0.88      0.88      0.88      1468\n",
            "\n",
            "    accuracy                           0.88      2926\n",
            "   macro avg       0.88      0.88      0.88      2926\n",
            "weighted avg       0.88      0.88      0.88      2926\n",
            "\n"
          ]
        }
      ]
    },
    {
      "cell_type": "code",
      "source": [
        "print('Test_Classification_Report')\n",
        "print('---------------------------')\n",
        "print(classification_report(ytest,ytestpred))"
      ],
      "metadata": {
        "colab": {
          "base_uri": "https://localhost:8080/"
        },
        "id": "yiQzxwjrdcWC",
        "outputId": "790358d1-c732-4ca7-d78e-06d51fe80073"
      },
      "execution_count": null,
      "outputs": [
        {
          "output_type": "stream",
          "name": "stdout",
          "text": [
            "Test_Classification_Report\n",
            "---------------------------\n",
            "              precision    recall  f1-score   support\n",
            "\n",
            "         0.0       0.81      0.79      0.80       632\n",
            "         1.0       0.79      0.81      0.80       622\n",
            "\n",
            "    accuracy                           0.80      1254\n",
            "   macro avg       0.80      0.80      0.80      1254\n",
            "weighted avg       0.80      0.80      0.80      1254\n",
            "\n"
          ]
        }
      ]
    }
  ]
}